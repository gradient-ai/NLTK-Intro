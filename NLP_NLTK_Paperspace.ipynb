{
  "nbformat": 4,
  "nbformat_minor": 2,
  "metadata": {
    "colab": {
      "name": "NLP_NLTK_Paperspace.ipynb",
      "provenance": [],
      "authorship_tag": "ABX9TyMOB10UnWH9f4pUgj8WmPfB"
    },
    "kernelspec": {
      "name": "python3",
      "display_name": "Python 3"
    },
    "language_info": {
      "name": "python"
    }
  },
  "cells": [
    {
      "cell_type": "markdown",
      "source": [
        "# Setup"
      ],
      "metadata": {
        "id": "T9WlVjug9MSa"
      }
    },
    {
      "cell_type": "code",
      "execution_count": 1,
      "source": [
        "!pip install nltk\n",
        "!pip install numpy\n",
        "!pip install matplotlib"
      ],
      "outputs": [
        {
          "output_type": "stream",
          "name": "stdout",
          "text": [
            "Looking in indexes: https://pypi.org/simple, https://us-python.pkg.dev/colab-wheels/public/simple/\n",
            "Requirement already satisfied: nltk in /usr/local/lib/python3.7/dist-packages (3.7)\n",
            "Requirement already satisfied: regex>=2021.8.3 in /usr/local/lib/python3.7/dist-packages (from nltk) (2022.6.2)\n",
            "Requirement already satisfied: click in /usr/local/lib/python3.7/dist-packages (from nltk) (7.1.2)\n",
            "Requirement already satisfied: joblib in /usr/local/lib/python3.7/dist-packages (from nltk) (1.1.0)\n",
            "Requirement already satisfied: tqdm in /usr/local/lib/python3.7/dist-packages (from nltk) (4.64.0)\n",
            "Looking in indexes: https://pypi.org/simple, https://us-python.pkg.dev/colab-wheels/public/simple/\n",
            "Requirement already satisfied: numpy in /usr/local/lib/python3.7/dist-packages (1.21.6)\n",
            "Looking in indexes: https://pypi.org/simple, https://us-python.pkg.dev/colab-wheels/public/simple/\n",
            "Requirement already satisfied: matplotlib in /usr/local/lib/python3.7/dist-packages (3.2.2)\n",
            "Requirement already satisfied: cycler>=0.10 in /usr/local/lib/python3.7/dist-packages (from matplotlib) (0.11.0)\n",
            "Requirement already satisfied: kiwisolver>=1.0.1 in /usr/local/lib/python3.7/dist-packages (from matplotlib) (1.4.4)\n",
            "Requirement already satisfied: pyparsing!=2.0.4,!=2.1.2,!=2.1.6,>=2.0.1 in /usr/local/lib/python3.7/dist-packages (from matplotlib) (3.0.9)\n",
            "Requirement already satisfied: python-dateutil>=2.1 in /usr/local/lib/python3.7/dist-packages (from matplotlib) (2.8.2)\n",
            "Requirement already satisfied: numpy>=1.11 in /usr/local/lib/python3.7/dist-packages (from matplotlib) (1.21.6)\n",
            "Requirement already satisfied: typing-extensions in /usr/local/lib/python3.7/dist-packages (from kiwisolver>=1.0.1->matplotlib) (4.1.1)\n",
            "Requirement already satisfied: six>=1.5 in /usr/local/lib/python3.7/dist-packages (from python-dateutil>=2.1->matplotlib) (1.15.0)\n"
          ]
        }
      ],
      "metadata": {
        "id": "bwixQIE78fII",
        "outputId": "15be3c8e-acc9-46bc-b796-839f7e819b34",
        "colab": {
          "base_uri": "https://localhost:8080/"
        }
      }
    },
    {
      "cell_type": "code",
      "execution_count": 2,
      "source": [
        "import nltk\n",
        "nltk.download(\"punkt\")\n",
        "nltk.download(\"averaged_perceptron_tagger\")\n",
        "nltk.download(\"stopwords\")"
      ],
      "outputs": [
        {
          "output_type": "stream",
          "name": "stderr",
          "text": [
            "[nltk_data] Downloading package punkt to /root/nltk_data...\n",
            "[nltk_data]   Unzipping tokenizers/punkt.zip.\n",
            "[nltk_data] Downloading package averaged_perceptron_tagger to\n",
            "[nltk_data]     /root/nltk_data...\n",
            "[nltk_data]   Unzipping taggers/averaged_perceptron_tagger.zip.\n",
            "[nltk_data] Downloading package stopwords to /root/nltk_data...\n",
            "[nltk_data]   Unzipping corpora/stopwords.zip.\n"
          ]
        },
        {
          "output_type": "execute_result",
          "data": {
            "text/plain": [
              "True"
            ]
          },
          "metadata": {},
          "execution_count": 2
        }
      ],
      "metadata": {
        "id": "4w7btyYsBu0_",
        "outputId": "f4628f2a-5eb3-401e-9c36-c6a3d5c5789f",
        "colab": {
          "base_uri": "https://localhost:8080/"
        }
      }
    },
    {
      "cell_type": "markdown",
      "source": [
        "## Text definition"
      ],
      "metadata": {
        "id": "_IkCVzNQG4ti"
      }
    },
    {
      "cell_type": "code",
      "execution_count": 3,
      "source": [
        "text = \"Paperspace is built for the future where hardware and software are inextricably linked. Our tools provide a seamless abstraction layer that radically simplifies access to accelerated computing. The Paperspace stack removes costly distractions, enabling individuals & organizations to focus on what matters. \""
      ],
      "outputs": [],
      "metadata": {
        "id": "0Kp9pYfsGr2u"
      }
    },
    {
      "cell_type": "markdown",
      "source": [
        "# Tokenization"
      ],
      "metadata": {
        "id": "na95_U4V8FSX"
      }
    },
    {
      "cell_type": "code",
      "execution_count": 4,
      "source": [
        "text = text.lower()\n",
        "word_tokens = nltk.word_tokenize(text)\n",
        "print (word_tokens)"
      ],
      "outputs": [
        {
          "output_type": "stream",
          "name": "stdout",
          "text": [
            "['paperspace', 'is', 'built', 'for', 'the', 'future', 'where', 'hardware', 'and', 'software', 'are', 'inextricably', 'linked', '.', 'our', 'tools', 'provide', 'a', 'seamless', 'abstraction', 'layer', 'that', 'radically', 'simplifies', 'access', 'to', 'accelerated', 'computing', '.', 'the', 'paperspace', 'stack', 'removes', 'costly', 'distractions', ',', 'enabling', 'individuals', '&', 'organizations', 'to', 'focus', 'on', 'what', 'matters', '.']\n"
          ]
        }
      ],
      "metadata": {
        "id": "Ol5qTtTf8Hjc",
        "outputId": "73e256fb-0cc4-4a7c-8e51-651c1b934574",
        "colab": {
          "base_uri": "https://localhost:8080/"
        }
      }
    },
    {
      "cell_type": "code",
      "execution_count": 5,
      "source": [
        "sentence_tokens = nltk.sent_tokenize(text)\n",
        "print (sentence_tokens)"
      ],
      "outputs": [
        {
          "output_type": "stream",
          "name": "stdout",
          "text": [
            "['paperspace is built for the future where hardware and software are inextricably linked.', 'our tools provide a seamless abstraction layer that radically simplifies access to accelerated computing.', 'the paperspace stack removes costly distractions, enabling individuals & organizations to focus on what matters.']\n"
          ]
        }
      ],
      "metadata": {
        "id": "kRA5j83DAEcs",
        "outputId": "965bd629-813f-4055-8827-9bfc27d4ee34",
        "colab": {
          "base_uri": "https://localhost:8080/"
        }
      }
    },
    {
      "cell_type": "markdown",
      "source": [
        "# Stop word removal"
      ],
      "metadata": {
        "id": "d8iVYWHwSFg4"
      }
    },
    {
      "cell_type": "code",
      "execution_count": 6,
      "source": [
        "from nltk.corpus import stopwords\n",
        "stopword = stopwords.words('english')\n",
        "word_tokens_cleaned = [word for word in word_tokens if word not in stopword]\n",
        "print (word_tokens_cleaned)"
      ],
      "outputs": [
        {
          "output_type": "stream",
          "name": "stdout",
          "text": [
            "['paperspace', 'built', 'future', 'hardware', 'software', 'inextricably', 'linked', '.', 'tools', 'provide', 'seamless', 'abstraction', 'layer', 'radically', 'simplifies', 'access', 'accelerated', 'computing', '.', 'paperspace', 'stack', 'removes', 'costly', 'distractions', ',', 'enabling', 'individuals', '&', 'organizations', 'focus', 'matters', '.']\n"
          ]
        }
      ],
      "metadata": {
        "colab": {
          "base_uri": "https://localhost:8080/"
        },
        "id": "bl9FXcuWSHdt",
        "outputId": "1bee6e0e-d3c7-44a2-9341-dafb4e0d5d71"
      }
    },
    {
      "cell_type": "markdown",
      "source": [
        "# Lemmatization"
      ],
      "metadata": {
        "id": "DWBYpojPWQq3"
      }
    },
    {
      "cell_type": "code",
      "execution_count": 7,
      "source": [
        "nltk.download(\"omw-1.4\")\n",
        "nltk.download(\"wordnet\")\n",
        "from nltk.stem.wordnet import WordNetLemmatizer\n",
        "\n",
        "wordnet_lemmatizer = WordNetLemmatizer()\n",
        "lemmatized_tokens = [wordnet_lemmatizer.lemmatize(token) for token in word_tokens_cleaned]\n",
        "print(lemmatized_tokens)"
      ],
      "outputs": [
        {
          "output_type": "stream",
          "name": "stderr",
          "text": [
            "[nltk_data] Downloading package omw-1.4 to /root/nltk_data...\n",
            "[nltk_data] Downloading package wordnet to /root/nltk_data...\n"
          ]
        },
        {
          "output_type": "stream",
          "name": "stdout",
          "text": [
            "['paperspace', 'built', 'future', 'hardware', 'software', 'inextricably', 'linked', '.', 'tool', 'provide', 'seamless', 'abstraction', 'layer', 'radically', 'simplifies', 'access', 'accelerated', 'computing', '.', 'paperspace', 'stack', 'remove', 'costly', 'distraction', ',', 'enabling', 'individual', '&', 'organization', 'focus', 'matter', '.']\n"
          ]
        }
      ],
      "metadata": {
        "colab": {
          "base_uri": "https://localhost:8080/"
        },
        "id": "qBKhL6EFWSso",
        "outputId": "e6d5600c-3417-49b3-9e3b-f40686c00b28"
      }
    },
    {
      "cell_type": "markdown",
      "source": [
        "# Stemming"
      ],
      "metadata": {
        "id": "nX5L2KY-Xo-8"
      }
    },
    {
      "cell_type": "code",
      "execution_count": 8,
      "source": [
        "from nltk.stem.porter import PorterStemmer\n",
        "stemmed_tokens = [PorterStemmer().stem(token) for token in word_tokens_cleaned]\n",
        "print(stemmed_tokens)"
      ],
      "outputs": [
        {
          "output_type": "stream",
          "name": "stdout",
          "text": [
            "['paperspac', 'built', 'futur', 'hardwar', 'softwar', 'inextric', 'link', '.', 'tool', 'provid', 'seamless', 'abstract', 'layer', 'radic', 'simplifi', 'access', 'acceler', 'comput', '.', 'paperspac', 'stack', 'remov', 'costli', 'distract', ',', 'enabl', 'individu', '&', 'organ', 'focu', 'matter', '.']\n"
          ]
        }
      ],
      "metadata": {
        "colab": {
          "base_uri": "https://localhost:8080/"
        },
        "id": "PfmWRlg7XqUU",
        "outputId": "d7d4c725-1191-4e8c-aba0-3fb744d6163b"
      }
    },
    {
      "cell_type": "markdown",
      "source": [
        "# POS Tag"
      ],
      "metadata": {
        "id": "uhkNZ0wFNTrg"
      }
    },
    {
      "cell_type": "code",
      "execution_count": 9,
      "source": [
        "pos_tag = nltk.pos_tag(word_tokens_cleaned)\n",
        "print(pos_tag)"
      ],
      "outputs": [
        {
          "output_type": "stream",
          "name": "stdout",
          "text": [
            "[('paperspace', 'NN'), ('built', 'VBN'), ('future', 'JJ'), ('hardware', 'NN'), ('software', 'NN'), ('inextricably', 'RB'), ('linked', 'VBN'), ('.', '.'), ('tools', 'NNS'), ('provide', 'VBP'), ('seamless', 'JJ'), ('abstraction', 'NN'), ('layer', 'NN'), ('radically', 'RB'), ('simplifies', 'VBZ'), ('access', 'NN'), ('accelerated', 'VBD'), ('computing', 'VBG'), ('.', '.'), ('paperspace', 'NN'), ('stack', 'NN'), ('removes', 'VBZ'), ('costly', 'JJ'), ('distractions', 'NNS'), (',', ','), ('enabling', 'VBG'), ('individuals', 'NNS'), ('&', 'CC'), ('organizations', 'NNS'), ('focus', 'VBP'), ('matters', 'NNS'), ('.', '.')]\n"
          ]
        }
      ],
      "metadata": {
        "id": "YryEuKsnNVIO",
        "outputId": "c025a53a-973b-4743-926e-f6e5da72a6f1",
        "colab": {
          "base_uri": "https://localhost:8080/"
        }
      }
    },
    {
      "cell_type": "markdown",
      "source": [
        "# Frequency Distribution"
      ],
      "metadata": {
        "id": "GlcG6iDfBu4I"
      }
    },
    {
      "cell_type": "code",
      "execution_count": 10,
      "source": [
        "from nltk import FreqDist\n",
        "frequency_distribution = FreqDist(lemmatized_tokens)\n",
        "frequency_distribution.most_common(10)"
      ],
      "outputs": [
        {
          "output_type": "execute_result",
          "data": {
            "text/plain": [
              "[('.', 3),\n",
              " ('paperspace', 2),\n",
              " ('built', 1),\n",
              " ('future', 1),\n",
              " ('hardware', 1),\n",
              " ('software', 1),\n",
              " ('inextricably', 1),\n",
              " ('linked', 1),\n",
              " ('tool', 1),\n",
              " ('provide', 1)]"
            ]
          },
          "metadata": {},
          "execution_count": 10
        }
      ],
      "metadata": {
        "colab": {
          "base_uri": "https://localhost:8080/"
        },
        "id": "LCsiZYenBvho",
        "outputId": "599d6167-94ff-43f5-8fa8-e9bc0db817d5"
      }
    },
    {
      "cell_type": "markdown",
      "source": [
        "# Dispersion Plot"
      ],
      "metadata": {
        "id": "yLRxSY6fDlLg"
      }
    },
    {
      "cell_type": "code",
      "execution_count": 11,
      "source": [
        "text = \"The size and complexity of AI models is growing at a truly astounding pace. Demand for compute cycles needed to train state-of-the-art models, which often exceed tens of billions of parameters, \\\n",
        "is truly meteoric, straining the supply and capabilities of existing chips. As a cloud platform built to power cutting-edge accelerated applications where every ounce of performance counts, our proximity to infrastructure has given us a unique insight into the exciting and fast-growing AI chip space.  \\\n",
        "In particular, we have been watching Graphcore emerge as a key player, delivering on its vision of increasing the effiency and performance of AI systems with its Intelligence Processing Unit or IPU. \\\n",
        "As Graphcore CEO Nigel Toon discussed in a recent interview, a well-designed AI software stack is needed to truly unlock the raw performance advancements afforded by purpose-built AI silicon. \\\n",
        "This perspective that developers need a simple access layer to abstract away the many complexities involved in machine learning infrastructure management is one that is enthusiastically shared by Paperspace. In fact, our MLOps platform Gradient was built to do just that.\\\n",
        "Today, we are thrilled to announce the integration of Graphcore IPUs into Gradient Notebooks. This new machine type in Gradient provides free access to IPU-POD16 Classic machines delivering 4 petaFLOPS of AI compute. \\\n",
        "Any Paperspace user can now effortlessly run state-of-the-art models on Graphcore IPUs, including getting started with a pre-configured Transformers sample project developed in partnership with HuggingFace. You can learn more in the announcement here. \\\n",
        "Paperspace and Graphcore will continue to collaborate on integrating IPUs into the full end-to-end Gradient platform, offering ML pipelining and inference capabilities that are becoming more and more prevalent as the AI industry matures.\""
      ],
      "outputs": [],
      "metadata": {
        "id": "dp9sY0MwJGoR"
      }
    },
    {
      "cell_type": "code",
      "execution_count": 12,
      "source": [
        "from nltk.text import Text\n",
        "from nltk.draw import dispersion_plot\n",
        "\n",
        "tokens = nltk.word_tokenize(text.lower())\n",
        "nltk_text = Text(tokens)\n",
        "words = [\"paperspace\",\"graphcore\",\"gradient\",\"performance\"]\n",
        "dispersion_plot(nltk_text,words,ignore_case=True)"
      ],
      "outputs": [
        {
          "output_type": "display_data",
          "data": {
            "image/png": "[encoded data removed]",
            "text/plain": [
              "<Figure size 432x288 with 1 Axes>"
            ]
          },
          "metadata": {
            "needs_background": "light"
          }
        }
      ],
      "metadata": {
        "colab": {
          "base_uri": "https://localhost:8080/",
          "height": 295
        },
        "id": "K-tlWiJhDl2N",
        "outputId": "00ab9303-7894-489c-b25e-cfd491c4a871"
      }
    },
    {
      "cell_type": "markdown",
      "source": [
        "# Syntax Tree Generation"
      ],
      "metadata": {
        "id": "nOmRhnaKR6nF"
      }
    },
    {
      "cell_type": "code",
      "execution_count": 13,
      "source": [
        "sentence = \"AI grows at an astounding pace\"\n",
        "sentence_tokens = nltk.word_tokenize(sentence)\n",
        "groucho_grammar = nltk.CFG.fromstring(\"\"\"\n",
        "  S -> NP VP\n",
        "  PP -> P NP\n",
        "  NP -> Det N | Det Adj N | Det N PP | Det Adj N PP | 'AI'\n",
        "  VP -> V NP | VP PP | V\n",
        "  Det -> 'an'\n",
        "  Adj -> 'astounding'\n",
        "  N -> 'pace'\n",
        "  V -> 'grows'\n",
        "  P -> 'at'\n",
        "  \"\"\")\n",
        "parser = nltk.ChartParser(groucho_grammar)\n",
        "for tree in parser.parse(sentence_tokens):\n",
        "  print(tree)"
      ],
      "outputs": [
        {
          "output_type": "stream",
          "name": "stdout",
          "text": [
            "(S\n",
            "  (NP AI)\n",
            "  (VP\n",
            "    (VP (V grows))\n",
            "    (PP (P at) (NP (Det an) (Adj astounding) (N pace)))))\n"
          ]
        }
      ],
      "metadata": {
        "colab": {
          "base_uri": "https://localhost:8080/"
        },
        "id": "E5OSDttmR9f4",
        "outputId": "f5e2bd59-8ada-485f-d004-5ab83501ff9f"
      }
    },
    {
      "cell_type": "code",
      "execution_count": 30,
      "source": [
        "sentence = \"AI grows at an astounding pace with a wider impact\"\n",
        "sentence_tokens = nltk.word_tokenize(sentence)\n",
        "groucho_grammar = nltk.CFG.fromstring(\"\"\"\n",
        "  S -> NP VP\n",
        "  PP -> P NP\n",
        "  NP -> Det N | Det Adj N | Det N PP | Det Adj N PP | 'AI'\n",
        "  VP -> V NP | VP PP | V\n",
        "  Det -> 'an' | 'a'\n",
        "  Adj -> 'astounding' | 'wider'\n",
        "  N -> 'pace' | 'impact'\n",
        "  V -> 'grows'\n",
        "  P -> 'at' | 'with'\n",
        "  \"\"\")\n",
        "parser = nltk.ChartParser(groucho_grammar)\n",
        "print(sentence)\n",
        "for tree in parser.parse(sentence_tokens):\n",
        "  print(tree)"
      ],
      "outputs": [
        {
          "output_type": "stream",
          "name": "stdout",
          "text": [
            "AI grows at an astounding pace with a wider impact\n",
            "(S\n",
            "  (NP AI)\n",
            "  (VP\n",
            "    (VP\n",
            "      (VP (V grows))\n",
            "      (PP (P at) (NP (Det an) (Adj astounding) (N pace))))\n",
            "    (PP (P with) (NP (Det a) (Adj wider) (N impact)))))\n",
            "(S\n",
            "  (NP AI)\n",
            "  (VP\n",
            "    (VP (V grows))\n",
            "    (PP\n",
            "      (P at)\n",
            "      (NP\n",
            "        (Det an)\n",
            "        (Adj astounding)\n",
            "        (N pace)\n",
            "        (PP (P with) (NP (Det a) (Adj wider) (N impact)))))))\n"
          ]
        }
      ],
      "metadata": {
        "id": "iX7E45L2x3t3",
        "outputId": "a126c2e3-d794-4b12-83cc-6ea2b600e919",
        "colab": {
          "base_uri": "https://localhost:8080/"
        }
      }
    },
    {
      "cell_type": "markdown",
      "source": [
        "# Sentiment analysis using Keras & NLTK"
      ],
      "metadata": {
        "id": "ZgkVhM4Uzu69"
      }
    },
    {
      "cell_type": "code",
      "execution_count": 14,
      "source": [
        "!curl https://raw.githubusercontent.com/adilmrk/Sentiment-Analysis-using-NLTK-Keras/main/sentiment_labelled_sentences.txt -o sentiment_labelled_sentences.txt"
      ],
      "outputs": [
        {
          "output_type": "stream",
          "name": "stdout",
          "text": [
            "  % Total    % Received % Xferd  Average Speed   Time    Time     Time  Current\n",
            "                                 Dload  Upload   Total   Spent    Left  Speed\n",
            "\r  0     0    0     0    0     0      0      0 --:--:-- --:--:-- --:--:--     0\r  0     0    0     0    0     0      0      0 --:--:-- --:--:-- --:--:--     0\r100  200k  100  200k    0     0   809k      0 --:--:-- --:--:-- --:--:--  806k\n"
          ]
        }
      ],
      "metadata": {
        "colab": {
          "base_uri": "https://localhost:8080/"
        },
        "id": "zxZYb18u05Eu",
        "outputId": "548a3ca2-eda8-4e30-d3af-93bfda217550"
      }
    },
    {
      "cell_type": "code",
      "execution_count": 15,
      "source": [
        "import pandas as pd\n",
        "from sklearn.model_selection import train_test_split\n",
        "from sklearn.feature_extraction.text import CountVectorizer\n",
        "from nltk.stem.wordnet import WordNetLemmatizer\n",
        "\n",
        "data = pd.read_csv(\"sentiment_labelled_sentences.txt\", names=['sentence', 'label'], sep='\\t')\n",
        "sentences = data['sentence'].values\n",
        "y = data['label'].values\n",
        "\n",
        "sentences = [ nltk.word_tokenize(sentence.lower()) for sentence in sentences]\n",
        "wordnet_lemmatizer = WordNetLemmatizer()\n",
        "sentences = [ \" \".join([wordnet_lemmatizer.lemmatize(token) for token in sentence_tokens]) for sentence_tokens in sentences]\n",
        "\n",
        "sentences_train, sentences_test, y_train, y_test = train_test_split(sentences, y, test_size=0.25, random_state=1000)\n",
        "vectorizer = CountVectorizer()\n",
        "vectorizer.fit(sentences_train)\n",
        "X_train = vectorizer.transform(sentences_train)\n",
        "X_test  = vectorizer.transform(sentences_test)"
      ],
      "outputs": [],
      "metadata": {
        "id": "Wum3Dd0yg2C1"
      }
    },
    {
      "cell_type": "code",
      "execution_count": 16,
      "source": [
        "from keras.models import Sequential\n",
        "from keras import layers\n",
        "\n",
        "input_dim = X_train.shape[1]\n",
        "model = Sequential()\n",
        "model.add(layers.Dense(10, input_dim=input_dim, activation='relu'))\n",
        "model.add(layers.Dense(1, activation='sigmoid'))\n",
        "model.compile(loss='binary_crossentropy', \n",
        "  optimizer='adam', \n",
        "  metrics=['accuracy'])\n",
        "model.summary()"
      ],
      "outputs": [
        {
          "output_type": "stream",
          "name": "stdout",
          "text": [
            "Model: \"sequential\"\n",
            "_________________________________________________________________\n",
            " Layer (type)                Output Shape              Param #   \n",
            "=================================================================\n",
            " dense (Dense)               (None, 10)                41250     \n",
            "                                                                 \n",
            " dense_1 (Dense)             (None, 1)                 11        \n",
            "                                                                 \n",
            "=================================================================\n",
            "Total params: 41,261\n",
            "Trainable params: 41,261\n",
            "Non-trainable params: 0\n",
            "_________________________________________________________________\n"
          ]
        }
      ],
      "metadata": {
        "colab": {
          "base_uri": "https://localhost:8080/"
        },
        "id": "4atpx7L9iVrv",
        "outputId": "df68c8af-dbb4-4c03-cbfb-cb6fc42efbe1"
      }
    },
    {
      "cell_type": "code",
      "execution_count": 17,
      "source": [
        "history = model.fit(X_train, y_train,\n",
        "  epochs=100,\n",
        "  verbose=False,\n",
        "  validation_data=(X_test, y_test),\n",
        "  batch_size=10)"
      ],
      "outputs": [
        {
          "output_type": "stream",
          "name": "stderr",
          "text": [
            "/usr/local/lib/python3.7/dist-packages/tensorflow/python/framework/indexed_slices.py:446: UserWarning: Converting sparse IndexedSlices(IndexedSlices(indices=Tensor(\"gradient_tape/sequential/dense/embedding_lookup_sparse/Reshape_1:0\", shape=(None,), dtype=int32), values=Tensor(\"gradient_tape/sequential/dense/embedding_lookup_sparse/Reshape:0\", shape=(None, 10), dtype=float32), dense_shape=Tensor(\"gradient_tape/sequential/dense/embedding_lookup_sparse/Cast:0\", shape=(2,), dtype=int32))) to a dense Tensor of unknown shape. This may consume a large amount of memory.\n",
            "  \"shape. This may consume a large amount of memory.\" % value)\n"
          ]
        }
      ],
      "metadata": {
        "colab": {
          "base_uri": "https://localhost:8080/"
        },
        "id": "rFX_7WUOjKce",
        "outputId": "3eb50f2c-07c3-45ab-9329-f792e383041a"
      }
    },
    {
      "cell_type": "code",
      "execution_count": 23,
      "source": [
        "import matplotlib.pyplot as plt\n",
        "\n",
        "acc = history.history['accuracy']\n",
        "val_acc = history.history['val_accuracy']\n",
        "loss = history.history['loss']\n",
        "val_loss = history.history['val_loss']\n",
        "\n",
        "plt.figure(figsize=(24, 12))\n",
        "plt.subplot(1, 2, 1)\n",
        "plt.plot(range(1, len(acc) + 1), acc, 'b', label='Training acc')\n",
        "plt.plot(range(1, len(acc) + 1), val_acc, 'r', label='Validation acc')\n",
        "plt.title('Training and validation accuracy')\n",
        "plt.legend()\n",
        "plt.subplot(1, 2, 2)\n",
        "plt.plot(range(1, len(acc) + 1), loss, 'b', label='Training loss')\n",
        "plt.plot(range(1, len(acc) + 1), val_loss, 'r', label='Validation loss')\n",
        "plt.title('Training and validation loss')\n",
        "plt.legend()"
      ],
      "outputs": [
        {
          "output_type": "execute_result",
          "data": {
            "text/plain": [
              "<matplotlib.legend.Legend at 0x7efec34994d0>"
            ]
          },
          "metadata": {},
          "execution_count": 23
        },
        {
          "output_type": "display_data",
          "data": {
            "image/png": "[encoded data removed]",
            "text/plain": [
              "<Figure size 1728x864 with 2 Axes>"
            ]
          },
          "metadata": {
            "needs_background": "light"
          }
        }
      ],
      "metadata": {
        "colab": {
          "base_uri": "https://localhost:8080/",
          "height": 565
        },
        "id": "er9wRT7mh8ZO",
        "outputId": "60417cf6-f16b-478c-eae1-701b8d9564fc"
      }
    },
    {
      "cell_type": "code",
      "execution_count": 24,
      "source": [
        "loss, accuracy = model.evaluate(X_test, y_test, verbose=False)\n",
        "print(\"Testing Accuracy:  {:.4f}\".format(accuracy))"
      ],
      "outputs": [
        {
          "output_type": "stream",
          "name": "stdout",
          "text": [
            "Testing Accuracy:  0.7656\n"
          ]
        }
      ],
      "metadata": {
        "colab": {
          "base_uri": "https://localhost:8080/"
        },
        "id": "zzMoEoeUjTaH",
        "outputId": "e9e6679d-9a65-46f6-bc8f-8b2b52fe4300"
      }
    },
    {
      "cell_type": "code",
      "execution_count": 25,
      "source": [
        "sentences = [\"AI is growing at an amazing pace\",\"paperspace is one of the best cloud computing service providers\",\n",
        "             \"Using local GPU AI machines is a bad idea\"]\n",
        "sentences = [ nltk.word_tokenize(sentence.lower()) for sentence in sentences]\n",
        "wordnet_lemmatizer = WordNetLemmatizer()\n",
        "sentences = [ \" \".join([wordnet_lemmatizer.lemmatize(token) for token in sentence_tokens]) for sentence_tokens in sentences]\n",
        "X_predict = vectorizer.transform(sentences)\n",
        "predictions = model.predict(X_predict)\n",
        "predictions = [ (y[0] > 0.5) for y in predictions]\n",
        "for i in range(0,len(sentences)):\n",
        "  if predictions[i]:\n",
        "    print(\"Positive sentiment : \" + sentences[i])\n",
        "  else:\n",
        "    print(\"Negative sentiment : \" + sentences[i])"
      ],
      "outputs": [
        {
          "output_type": "stream",
          "name": "stdout",
          "text": [
            "Positive sentiment : ai is growing at an amazing pace\n",
            "Positive sentiment : paperspace is one of the best cloud computing service provider\n",
            "Negative sentiment : using local gpu ai machine is a bad idea\n"
          ]
        }
      ],
      "metadata": {
        "colab": {
          "base_uri": "https://localhost:8080/"
        },
        "id": "fZTvWVaXhQLH",
        "outputId": "19d114ed-b3ed-4868-e298-14af76170855"
      }
    }
  ]
}